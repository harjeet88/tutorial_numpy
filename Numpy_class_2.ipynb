{
  "nbformat": 4,
  "nbformat_minor": 0,
  "metadata": {
    "colab": {
      "provenance": [],
      "authorship_tag": "ABX9TyM4ugCEVZgLhPY0THgwtQyK",
      "include_colab_link": true
    },
    "kernelspec": {
      "name": "python3",
      "display_name": "Python 3"
    },
    "language_info": {
      "name": "python"
    }
  },
  "cells": [
    {
      "cell_type": "markdown",
      "metadata": {
        "id": "view-in-github",
        "colab_type": "text"
      },
      "source": [
        "<a href=\"https://colab.research.google.com/github/harjeet88/tutorial_numpy/blob/main/Numpy_class_2.ipynb\" target=\"_parent\"><img src=\"https://colab.research.google.com/assets/colab-badge.svg\" alt=\"Open In Colab\"/></a>"
      ]
    },
    {
      "cell_type": "markdown",
      "source": [
        "# Agenda\n",
        "1. Sort\n",
        "2. ufunc\n",
        "3. fitbit\n",
        "4. vecotorization\n",
        "5. broadcasting\n",
        "6. splitting stacking\n",
        "7. meshgrid\n",
        "\n"
      ],
      "metadata": {
        "id": "TO9kttxJdblX"
      }
    },
    {
      "cell_type": "code",
      "source": [],
      "metadata": {
        "id": "GgWqDPVjdu8N"
      },
      "execution_count": null,
      "outputs": []
    }
  ]
}